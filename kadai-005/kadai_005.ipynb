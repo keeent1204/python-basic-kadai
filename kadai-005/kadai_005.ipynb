{
  "nbformat": 4,
  "nbformat_minor": 0,
  "metadata": {
    "colab": {
      "provenance": []
    },
    "kernelspec": {
      "name": "python3",
      "display_name": "Python 3"
    },
    "language_info": {
      "name": "python"
    }
  },
  "cells": [
    {
      "cell_type": "code",
      "source": [
        "jouhen = 10\n",
        "kahen = 20\n",
        "takasa = 5\n",
        "\n",
        "# 台形の面積\n",
        "daikei_menseki = (jouhen + kahen) * takasa / 2\n",
        "\n",
        "print(f\"{daikei_menseki}cm2\")"
      ],
      "metadata": {
        "colab": {
          "base_uri": "https://localhost:8080/"
        },
        "id": "CJr4mqFwEgaG",
        "outputId": "c0177dc2-a648-4b82-f1aa-9b771e60c797"
      },
      "execution_count": 9,
      "outputs": [
        {
          "output_type": "stream",
          "name": "stdout",
          "text": [
            "75.0cm2\n"
          ]
        }
      ]
    }
  ]
}