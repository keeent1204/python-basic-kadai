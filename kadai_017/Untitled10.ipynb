{
  "nbformat": 4,
  "nbformat_minor": 0,
  "metadata": {
    "colab": {
      "provenance": []
    },
    "kernelspec": {
      "name": "python3",
      "display_name": "Python 3"
    },
    "language_info": {
      "name": "python"
    }
  },
  "cells": [
    {
      "cell_type": "code",
      "execution_count": 21,
      "metadata": {
        "colab": {
          "base_uri": "https://localhost:8080/"
        },
        "id": "u1QmoqyGc55z",
        "outputId": "e23d9e71-68ba-4c20-e177-32098d3bc328"
      },
      "outputs": [
        {
          "output_type": "stream",
          "name": "stdout",
          "text": [
            "taro\n",
            "26\n",
            "大人\n",
            "hanako\n",
            "15\n",
            "大人でない\n",
            "mei\n",
            "33\n",
            "大人\n"
          ]
        }
      ],
      "source": [
        "class Human():\n",
        "  def __init__(self, name, age):\n",
        "    self.name = name\n",
        "    self.age = age\n",
        "\n",
        "  def check_adult(self):\n",
        "    print(self.name)\n",
        "    print(self.age)\n",
        "\n",
        "    if self.age >= 20:\n",
        "        print(\"大人\")\n",
        "    else:\n",
        "        print(\"大人でない\")\n",
        "\n",
        "personal_data = [(\"taro\", 26), (\"hanako\", 15), (\"mei\", 33)]\n",
        "\n",
        "personal_data_instance = [Human(name, age) for name, age in personal_data]\n",
        "\n",
        "for human in personal_data_instance:\n",
        "    human.check_adult()"
      ]
    }
  ]
}