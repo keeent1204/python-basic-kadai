{
  "nbformat": 4,
  "nbformat_minor": 0,
  "metadata": {
    "colab": {
      "provenance": []
    },
    "kernelspec": {
      "name": "python3",
      "display_name": "Python 3"
    },
    "language_info": {
      "name": "python"
    }
  },
  "cells": [
    {
      "cell_type": "code",
      "execution_count": 86,
      "metadata": {
        "colab": {
          "base_uri": "https://localhost:8080/"
        },
        "id": "L8i3oQbc-jwI",
        "outputId": "12400f91-b487-4d9b-ab7e-3dcc4f115848"
      },
      "outputs": [
        {
          "output_type": "stream",
          "name": "stdout",
          "text": [
            "FizzBuzz\n"
          ]
        }
      ],
      "source": [
        "import random\n",
        "\n",
        "var = 30\n",
        "\n",
        "if var % 3 == 0 and var % 5 == 0:\n",
        "  print(\"FizzBuzz\")\n",
        "\n",
        "elif var % 3 == 0:\n",
        "  print(\"Fizz\")\n",
        "\n",
        "elif var % 5 == 0:\n",
        "  print(\"Buzz\")\n",
        "\n",
        "else:\n",
        "  print(var)"
      ]
    }
  ]
}