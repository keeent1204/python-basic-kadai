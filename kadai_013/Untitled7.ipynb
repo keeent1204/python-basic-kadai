{
  "nbformat": 4,
  "nbformat_minor": 0,
  "metadata": {
    "colab": {
      "provenance": []
    },
    "kernelspec": {
      "name": "python3",
      "display_name": "Python 3"
    },
    "language_info": {
      "name": "python"
    }
  },
  "cells": [
    {
      "cell_type": "code",
      "execution_count": 10,
      "metadata": {
        "colab": {
          "base_uri": "https://localhost:8080/"
        },
        "id": "bNcOmsd1zeO6",
        "outputId": "64f0455b-e4c0-45f7-f332-5036191b4ae6"
      },
      "outputs": [
        {
          "output_type": "execute_result",
          "data": {
            "text/plain": [
              "121.0"
            ]
          },
          "metadata": {},
          "execution_count": 10
        }
      ],
      "source": [
        "def add_tax(price, tax_rate):\n",
        "  add_tax_price = (price * tax_rate / 100) + price\n",
        "\n",
        "  return add_tax_price\n",
        "\n",
        "add_tax(110, 10)"
      ]
    }
  ]
}