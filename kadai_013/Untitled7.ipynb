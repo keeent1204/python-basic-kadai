{
  "nbformat": 4,
  "nbformat_minor": 0,
  "metadata": {
    "colab": {
      "provenance": []
    },
    "kernelspec": {
      "name": "python3",
      "display_name": "Python 3"
    },
    "language_info": {
      "name": "python"
    }
  },
  "cells": [
    {
      "cell_type": "code",
      "execution_count": 8,
      "metadata": {
        "colab": {
          "base_uri": "https://localhost:8080/"
        },
        "id": "bNcOmsd1zeO6",
        "outputId": "5ce77cd7-1dd0-4075-f6b0-cf36ff05d6c5"
      },
      "outputs": [
        {
          "output_type": "stream",
          "name": "stdout",
          "text": [
            "121.0\n"
          ]
        }
      ],
      "source": [
        "def add_tax(price, tax_rate):\n",
        "  add_tax_price = (price * tax_rate / 100) + price\n",
        "\n",
        "  print(add_tax_price)\n",
        "\n",
        "add_tax(110, 10)"
      ]
    }
  ]
}