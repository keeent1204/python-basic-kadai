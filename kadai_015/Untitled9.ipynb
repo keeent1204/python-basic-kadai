{
  "nbformat": 4,
  "nbformat_minor": 0,
  "metadata": {
    "colab": {
      "provenance": []
    },
    "kernelspec": {
      "name": "python3",
      "display_name": "Python 3"
    },
    "language_info": {
      "name": "python"
    }
  },
  "cells": [
    {
      "cell_type": "code",
      "execution_count": 4,
      "metadata": {
        "colab": {
          "base_uri": "https://localhost:8080/"
        },
        "id": "I-FOX0XsS3nc",
        "outputId": "f128c868-02e9-43d2-9c27-9fc29b268d32"
      },
      "outputs": [
        {
          "output_type": "stream",
          "name": "stdout",
          "text": [
            "侍太郎\n",
            "36\n"
          ]
        }
      ],
      "source": [
        "class Human():\n",
        "  def __init__(self, name, age):\n",
        "    self.name = name\n",
        "    self.age = age\n",
        "\n",
        "  def show_name(self):\n",
        "    print(self.name)\n",
        "\n",
        "  def show_age(self):\n",
        "    print(self.age)\n",
        "\n",
        "human = Human(\"侍太郎\", 36)\n",
        "\n",
        "human.show_name()\n",
        "human.show_age()"
      ]
    }
  ]
}